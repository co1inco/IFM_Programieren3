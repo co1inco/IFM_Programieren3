{
 "cells": [
  {
   "cell_type": "markdown",
   "id": "e8834c04",
   "metadata": {},
   "source": [
    "# Aufgabe 1\n",
    "\n",
    "\n",
    "**a** oder (**a** gefolgt von beliebig vielen **a** oder **b** gefolgt von a)\n"
   ]
  },
  {
   "cell_type": "markdown",
   "id": "02c70d7a",
   "metadata": {},
   "source": [
    "# Aufgabe 2\n",
    "\n",
    "\n",
    "```\n",
    "((V|v) | (P|p) | (a-z,A-Z)) (a-z,A-Z,0-9,_)* (a-z,A-Z,0-9)\n",
    "\n",
    "```\n",
    "*Spaces sind für die Lesbarkeit*\n",
    "\n",
    "V_test_global_variable1\n",
    "p_some_parameter\n",
    "\n",
    "---\n",
    "\n",
    "**S** -> V|P|W\n",
    "**V** -> (V|v)**N**  \n",
    "**P** -> (P|p)**N**  \n",
    "**W** -> (a-z,A-Z)**N**  \n",
    "**N** -> (a-z,A-Z,0-9,_)***E**  \n",
    "**E** -> (a-z,A-Z,0-9)  "
   ]
  },
  {
   "cell_type": "markdown",
   "id": "4a881631",
   "metadata": {},
   "source": [
    "# Aufgabe 3\n",
    "\n",
    "**S**  -> W|K             [Start with whole number or a decimal separator]\n",
    "**W** -> (0-9)(W|K|E|ϵ)   [Decimal number followed by another W, decimal separator, the f suffix or the end]    \n",
    "**K**  -> \\.(D)           [Decimal separator . followed by the decimal]\n",
    "**D**  -> (0-9)(D|E)      [Decimal number followed by another decimal number or the f suffix]\n",
    "**E**  -> fϵ              [f suffix followed by the end]\n",
    "\n",
    "The f suffix is not required when no decimal separator is present as the number is technically an int that can be cast to a float without precision loss.\n",
    "floating point numbers without the f are doubles which can not be cast to a float"
   ]
  },
  {
   "cell_type": "code",
   "execution_count": null,
   "id": "02d7246c",
   "metadata": {
    "language_info": {
     "name": "polyglot-notebook"
    },
    "polyglot_notebook": {
     "kernelName": "csharp"
    }
   },
   "outputs": [
    {
     "ename": "Error",
     "evalue": "(1,13): error CS1061: 'int' does not contain a definition for 'f' and no accessible extension method 'f' accepting a first argument of type 'int' could be found (are you missing a using directive or an assembly reference?)",
     "output_type": "error",
     "traceback": [
      "(1,13): error CS1061: 'int' does not contain a definition for 'f' and no accessible extension method 'f' accepting a first argument of type 'int' could be found (are you missing a using directive or an assembly reference?)"
     ]
    }
   ],
   "source": [
    "float f = 1;"
   ]
  },
  {
   "cell_type": "markdown",
   "id": "d8dc7775",
   "metadata": {},
   "source": [
    "# Aufgabe 4\n",
    "\n",
    " * Mail Adressen erlauben Großbuchstaben\n",
    " * Sonderzeichen im teil vor dem @\n",
    " * mehrere Segmente nach dem @\n",
    "  \n",
    "```\n",
    "eg: colin.meihoefer@de.abb.com\n",
    "```"
   ]
  }
 ],
 "metadata": {
  "kernelspec": {
   "display_name": ".NET (C#)",
   "language": "C#",
   "name": ".net-csharp"
  },
  "language_info": {
   "name": "polyglot-notebook"
  },
  "polyglot_notebook": {
   "kernelInfo": {
    "defaultKernelName": "csharp",
    "items": [
     {
      "aliases": [],
      "languageName": "csharp",
      "name": "csharp"
     }
    ]
   }
  }
 },
 "nbformat": 4,
 "nbformat_minor": 5
}
