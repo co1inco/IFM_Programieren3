{
 "cells": [
  {
   "cell_type": "code",
   "execution_count": 1,
   "id": "24173ded",
   "metadata": {
    "language_info": {
     "name": "polyglot-notebook"
    },
    "polyglot_notebook": {
     "kernelName": "csharp"
    }
   },
   "outputs": [],
   "source": [
    "import pandas as pd"
   ]
  },
  {
   "cell_type": "markdown",
   "id": "31a37243",
   "metadata": {},
   "source": [
    "# Aufgabe 1"
   ]
  },
  {
   "cell_type": "code",
   "execution_count": 3,
   "id": "4f99eeb5",
   "metadata": {},
   "outputs": [
    {
     "data": {
      "text/html": [
       "<div>\n",
       "<style scoped>\n",
       "    .dataframe tbody tr th:only-of-type {\n",
       "        vertical-align: middle;\n",
       "    }\n",
       "\n",
       "    .dataframe tbody tr th {\n",
       "        vertical-align: top;\n",
       "    }\n",
       "\n",
       "    .dataframe thead th {\n",
       "        text-align: right;\n",
       "    }\n",
       "</style>\n",
       "<table border=\"1\" class=\"dataframe\">\n",
       "  <thead>\n",
       "    <tr style=\"text-align: right;\">\n",
       "      <th></th>\n",
       "      <th>country</th>\n",
       "      <th>area</th>\n",
       "      <th>population</th>\n",
       "    </tr>\n",
       "  </thead>\n",
       "  <tbody>\n",
       "    <tr>\n",
       "      <th>Wien</th>\n",
       "      <td>Östereich</td>\n",
       "      <td>414.60</td>\n",
       "      <td>1805681</td>\n",
       "    </tr>\n",
       "    <tr>\n",
       "      <th>Berlin</th>\n",
       "      <td>Deutschland</td>\n",
       "      <td>891.85</td>\n",
       "      <td>3562166</td>\n",
       "    </tr>\n",
       "    <tr>\n",
       "      <th>Zürich</th>\n",
       "      <td>Schweiz</td>\n",
       "      <td>87.88</td>\n",
       "      <td>378884</td>\n",
       "    </tr>\n",
       "  </tbody>\n",
       "</table>\n",
       "</div>"
      ],
      "text/plain": [
       "            country    area  population\n",
       "Wien      Östereich  414.60     1805681\n",
       "Berlin  Deutschland  891.85     3562166\n",
       "Zürich      Schweiz   87.88      378884"
      ]
     },
     "execution_count": 3,
     "metadata": {},
     "output_type": "execute_result"
    }
   ],
   "source": [
    "\n",
    "data = { \n",
    "    'country': ['Östereich', 'Deutschland', 'Schweiz'],\n",
    "    'area': [414.6, 891.85, 87.88],\n",
    "    'population': [1805681, 3562166, 378884]\n",
    "}\n",
    "\n",
    "df = pd.DataFrame(data=data, index=['Wien', 'Berlin', 'Zürich'])\n",
    "\n",
    "df"
   ]
  },
  {
   "cell_type": "code",
   "execution_count": 4,
   "id": "b481311c",
   "metadata": {},
   "outputs": [
    {
     "data": {
      "text/html": [
       "<div>\n",
       "<style scoped>\n",
       "    .dataframe tbody tr th:only-of-type {\n",
       "        vertical-align: middle;\n",
       "    }\n",
       "\n",
       "    .dataframe tbody tr th {\n",
       "        vertical-align: top;\n",
       "    }\n",
       "\n",
       "    .dataframe thead th {\n",
       "        text-align: right;\n",
       "    }\n",
       "</style>\n",
       "<table border=\"1\" class=\"dataframe\">\n",
       "  <thead>\n",
       "    <tr style=\"text-align: right;\">\n",
       "      <th></th>\n",
       "      <th>country</th>\n",
       "      <th>area</th>\n",
       "      <th>population</th>\n",
       "    </tr>\n",
       "  </thead>\n",
       "  <tbody>\n",
       "    <tr>\n",
       "      <th>Berlin</th>\n",
       "      <td>Deutschland</td>\n",
       "      <td>891.85</td>\n",
       "      <td>3562166</td>\n",
       "    </tr>\n",
       "    <tr>\n",
       "      <th>Wien</th>\n",
       "      <td>Östereich</td>\n",
       "      <td>414.60</td>\n",
       "      <td>1805681</td>\n",
       "    </tr>\n",
       "    <tr>\n",
       "      <th>Zürich</th>\n",
       "      <td>Schweiz</td>\n",
       "      <td>87.88</td>\n",
       "      <td>378884</td>\n",
       "    </tr>\n",
       "  </tbody>\n",
       "</table>\n",
       "</div>"
      ],
      "text/plain": [
       "            country    area  population\n",
       "Berlin  Deutschland  891.85     3562166\n",
       "Wien      Östereich  414.60     1805681\n",
       "Zürich      Schweiz   87.88      378884"
      ]
     },
     "execution_count": 4,
     "metadata": {},
     "output_type": "execute_result"
    }
   ],
   "source": [
    "df.sort_index()"
   ]
  },
  {
   "cell_type": "code",
   "execution_count": 7,
   "id": "feafb8c4",
   "metadata": {},
   "outputs": [
    {
     "data": {
      "text/html": [
       "<div>\n",
       "<style scoped>\n",
       "    .dataframe tbody tr th:only-of-type {\n",
       "        vertical-align: middle;\n",
       "    }\n",
       "\n",
       "    .dataframe tbody tr th {\n",
       "        vertical-align: top;\n",
       "    }\n",
       "\n",
       "    .dataframe thead th {\n",
       "        text-align: right;\n",
       "    }\n",
       "</style>\n",
       "<table border=\"1\" class=\"dataframe\">\n",
       "  <thead>\n",
       "    <tr style=\"text-align: right;\">\n",
       "      <th></th>\n",
       "      <th>Berlin</th>\n",
       "      <th>Wien</th>\n",
       "      <th>Zürich</th>\n",
       "    </tr>\n",
       "  </thead>\n",
       "  <tbody>\n",
       "    <tr>\n",
       "      <th>area</th>\n",
       "      <td>891.85</td>\n",
       "      <td>414.6</td>\n",
       "      <td>87.88</td>\n",
       "    </tr>\n",
       "    <tr>\n",
       "      <th>country</th>\n",
       "      <td>Deutschland</td>\n",
       "      <td>Östereich</td>\n",
       "      <td>Schweiz</td>\n",
       "    </tr>\n",
       "    <tr>\n",
       "      <th>population</th>\n",
       "      <td>3562166</td>\n",
       "      <td>1805681</td>\n",
       "      <td>378884</td>\n",
       "    </tr>\n",
       "  </tbody>\n",
       "</table>\n",
       "</div>"
      ],
      "text/plain": [
       "                 Berlin       Wien   Zürich\n",
       "area             891.85      414.6    87.88\n",
       "country     Deutschland  Östereich  Schweiz\n",
       "population      3562166    1805681   378884"
      ]
     },
     "execution_count": 7,
     "metadata": {},
     "output_type": "execute_result"
    }
   ],
   "source": [
    "df.sort_index().transpose().sort_index()"
   ]
  },
  {
   "cell_type": "markdown",
   "id": "d6bbc04e",
   "metadata": {},
   "source": [
    "# Aufgabe 2"
   ]
  },
  {
   "cell_type": "code",
   "execution_count": 8,
   "id": "77c70b8b",
   "metadata": {},
   "outputs": [
    {
     "data": {
      "text/html": [
       "<div>\n",
       "<style scoped>\n",
       "    .dataframe tbody tr th:only-of-type {\n",
       "        vertical-align: middle;\n",
       "    }\n",
       "\n",
       "    .dataframe tbody tr th {\n",
       "        vertical-align: top;\n",
       "    }\n",
       "\n",
       "    .dataframe thead th {\n",
       "        text-align: right;\n",
       "    }\n",
       "</style>\n",
       "<table border=\"1\" class=\"dataframe\">\n",
       "  <thead>\n",
       "    <tr style=\"text-align: right;\">\n",
       "      <th></th>\n",
       "      <th>Gewicht</th>\n",
       "      <th>Größe</th>\n",
       "    </tr>\n",
       "  </thead>\n",
       "  <tbody>\n",
       "    <tr>\n",
       "      <th>Henry</th>\n",
       "      <td>65</td>\n",
       "      <td>179</td>\n",
       "    </tr>\n",
       "    <tr>\n",
       "      <th>Sarah</th>\n",
       "      <td>58</td>\n",
       "      <td>165</td>\n",
       "    </tr>\n",
       "    <tr>\n",
       "      <th>Elke</th>\n",
       "      <td>58</td>\n",
       "      <td>172</td>\n",
       "    </tr>\n",
       "    <tr>\n",
       "      <th>Lulu</th>\n",
       "      <td>45</td>\n",
       "      <td>154</td>\n",
       "    </tr>\n",
       "    <tr>\n",
       "      <th>Vera</th>\n",
       "      <td>43</td>\n",
       "      <td>150</td>\n",
       "    </tr>\n",
       "    <tr>\n",
       "      <th>Toni</th>\n",
       "      <td>99</td>\n",
       "      <td>189</td>\n",
       "    </tr>\n",
       "    <tr>\n",
       "      <th>Maria</th>\n",
       "      <td>68</td>\n",
       "      <td>176</td>\n",
       "    </tr>\n",
       "    <tr>\n",
       "      <th>Chris</th>\n",
       "      <td>60</td>\n",
       "      <td>175</td>\n",
       "    </tr>\n",
       "  </tbody>\n",
       "</table>\n",
       "</div>"
      ],
      "text/plain": [
       "       Gewicht  Größe\n",
       "Henry       65    179\n",
       "Sarah       58    165\n",
       "Elke        58    172\n",
       "Lulu        45    154\n",
       "Vera        43    150\n",
       "Toni        99    189\n",
       "Maria       68    176\n",
       "Chris       60    175"
      ]
     },
     "execution_count": 8,
     "metadata": {},
     "output_type": "execute_result"
    }
   ],
   "source": [
    "data = {\n",
    "    'Gewicht': [65, 58, 58, 45, 43, 99, 68, 60],\n",
    "    'Größe': [179, 165, 172, 154, 150, 189, 176, 175]\n",
    "}\n",
    "\n",
    "s = pd.DataFrame(data=data, index=['Henry', 'Sarah', 'Elke', 'Lulu', 'Vera', 'Toni', 'Maria', 'Chris'])\n",
    "s"
   ]
  },
  {
   "cell_type": "code",
   "execution_count": 19,
   "id": "1f3ffb5d",
   "metadata": {},
   "outputs": [],
   "source": [
    "def bmi(column):\n",
    "    return (column['Gewicht'] / ((column['Größe'] / 100) ** 2))\n"
   ]
  },
  {
   "cell_type": "code",
   "execution_count": 20,
   "id": "932ec3da",
   "metadata": {},
   "outputs": [
    {
     "data": {
      "text/plain": [
       "Henry    20.286508\n",
       "Sarah    21.303949\n",
       "Elke     19.605192\n",
       "Lulu     18.974532\n",
       "Vera     19.111111\n",
       "Toni     27.714790\n",
       "Maria    21.952479\n",
       "Chris    19.591837\n",
       "dtype: float64"
      ]
     },
     "execution_count": 20,
     "metadata": {},
     "output_type": "execute_result"
    }
   ],
   "source": [
    "bmi(s)"
   ]
  },
  {
   "cell_type": "code",
   "execution_count": 17,
   "id": "b8f66210",
   "metadata": {},
   "outputs": [
    {
     "data": {
      "text/html": [
       "<div>\n",
       "<style scoped>\n",
       "    .dataframe tbody tr th:only-of-type {\n",
       "        vertical-align: middle;\n",
       "    }\n",
       "\n",
       "    .dataframe tbody tr th {\n",
       "        vertical-align: top;\n",
       "    }\n",
       "\n",
       "    .dataframe thead th {\n",
       "        text-align: right;\n",
       "    }\n",
       "</style>\n",
       "<table border=\"1\" class=\"dataframe\">\n",
       "  <thead>\n",
       "    <tr style=\"text-align: right;\">\n",
       "      <th></th>\n",
       "      <th>Gewicht</th>\n",
       "      <th>Größe</th>\n",
       "    </tr>\n",
       "  </thead>\n",
       "  <tbody>\n",
       "    <tr>\n",
       "      <th>Henry</th>\n",
       "      <td>65</td>\n",
       "      <td>179</td>\n",
       "    </tr>\n",
       "    <tr>\n",
       "      <th>Sarah</th>\n",
       "      <td>58</td>\n",
       "      <td>165</td>\n",
       "    </tr>\n",
       "    <tr>\n",
       "      <th>Elke</th>\n",
       "      <td>58</td>\n",
       "      <td>172</td>\n",
       "    </tr>\n",
       "    <tr>\n",
       "      <th>Lulu</th>\n",
       "      <td>45</td>\n",
       "      <td>154</td>\n",
       "    </tr>\n",
       "    <tr>\n",
       "      <th>Vera</th>\n",
       "      <td>43</td>\n",
       "      <td>150</td>\n",
       "    </tr>\n",
       "    <tr>\n",
       "      <th>Maria</th>\n",
       "      <td>68</td>\n",
       "      <td>176</td>\n",
       "    </tr>\n",
       "    <tr>\n",
       "      <th>Chris</th>\n",
       "      <td>60</td>\n",
       "      <td>175</td>\n",
       "    </tr>\n",
       "  </tbody>\n",
       "</table>\n",
       "</div>"
      ],
      "text/plain": [
       "       Gewicht  Größe\n",
       "Henry       65    179\n",
       "Sarah       58    165\n",
       "Elke        58    172\n",
       "Lulu        45    154\n",
       "Vera        43    150\n",
       "Maria       68    176\n",
       "Chris       60    175"
      ]
     },
     "execution_count": 17,
     "metadata": {},
     "output_type": "execute_result"
    }
   ],
   "source": [
    "s[bmi(s).between(18.5, 25)]"
   ]
  },
  {
   "cell_type": "code",
   "execution_count": 25,
   "id": "204363bf",
   "metadata": {},
   "outputs": [
    {
     "data": {
      "text/html": [
       "<div>\n",
       "<style scoped>\n",
       "    .dataframe tbody tr th:only-of-type {\n",
       "        vertical-align: middle;\n",
       "    }\n",
       "\n",
       "    .dataframe tbody tr th {\n",
       "        vertical-align: top;\n",
       "    }\n",
       "\n",
       "    .dataframe thead th {\n",
       "        text-align: right;\n",
       "    }\n",
       "</style>\n",
       "<table border=\"1\" class=\"dataframe\">\n",
       "  <thead>\n",
       "    <tr style=\"text-align: right;\">\n",
       "      <th></th>\n",
       "      <th>Gewicht</th>\n",
       "      <th>Größe</th>\n",
       "    </tr>\n",
       "  </thead>\n",
       "  <tbody>\n",
       "    <tr>\n",
       "      <th>Henry</th>\n",
       "      <td>65</td>\n",
       "      <td>179</td>\n",
       "    </tr>\n",
       "    <tr>\n",
       "      <th>Elke</th>\n",
       "      <td>58</td>\n",
       "      <td>172</td>\n",
       "    </tr>\n",
       "    <tr>\n",
       "      <th>Vera</th>\n",
       "      <td>43</td>\n",
       "      <td>150</td>\n",
       "    </tr>\n",
       "  </tbody>\n",
       "</table>\n",
       "</div>"
      ],
      "text/plain": [
       "       Gewicht  Größe\n",
       "Henry       65    179\n",
       "Elke        58    172\n",
       "Vera        43    150"
      ]
     },
     "execution_count": 25,
     "metadata": {},
     "output_type": "execute_result"
    }
   ],
   "source": [
    "s[s.index.str.contains('e')]"
   ]
  },
  {
   "cell_type": "code",
   "execution_count": 28,
   "id": "6f229d76",
   "metadata": {},
   "outputs": [
    {
     "data": {
      "text/html": [
       "<div>\n",
       "<style scoped>\n",
       "    .dataframe tbody tr th:only-of-type {\n",
       "        vertical-align: middle;\n",
       "    }\n",
       "\n",
       "    .dataframe tbody tr th {\n",
       "        vertical-align: top;\n",
       "    }\n",
       "\n",
       "    .dataframe thead th {\n",
       "        text-align: right;\n",
       "    }\n",
       "</style>\n",
       "<table border=\"1\" class=\"dataframe\">\n",
       "  <thead>\n",
       "    <tr style=\"text-align: right;\">\n",
       "      <th></th>\n",
       "      <th>Gewicht</th>\n",
       "      <th>Größe</th>\n",
       "      <th>BMI</th>\n",
       "    </tr>\n",
       "  </thead>\n",
       "  <tbody>\n",
       "    <tr>\n",
       "      <th>Henry</th>\n",
       "      <td>65</td>\n",
       "      <td>179</td>\n",
       "      <td>20.286508</td>\n",
       "    </tr>\n",
       "    <tr>\n",
       "      <th>Sarah</th>\n",
       "      <td>58</td>\n",
       "      <td>165</td>\n",
       "      <td>21.303949</td>\n",
       "    </tr>\n",
       "    <tr>\n",
       "      <th>Elke</th>\n",
       "      <td>58</td>\n",
       "      <td>172</td>\n",
       "      <td>19.605192</td>\n",
       "    </tr>\n",
       "    <tr>\n",
       "      <th>Lulu</th>\n",
       "      <td>45</td>\n",
       "      <td>154</td>\n",
       "      <td>18.974532</td>\n",
       "    </tr>\n",
       "    <tr>\n",
       "      <th>Vera</th>\n",
       "      <td>43</td>\n",
       "      <td>150</td>\n",
       "      <td>19.111111</td>\n",
       "    </tr>\n",
       "    <tr>\n",
       "      <th>Toni</th>\n",
       "      <td>99</td>\n",
       "      <td>189</td>\n",
       "      <td>27.714790</td>\n",
       "    </tr>\n",
       "    <tr>\n",
       "      <th>Maria</th>\n",
       "      <td>68</td>\n",
       "      <td>176</td>\n",
       "      <td>21.952479</td>\n",
       "    </tr>\n",
       "    <tr>\n",
       "      <th>Chris</th>\n",
       "      <td>60</td>\n",
       "      <td>175</td>\n",
       "      <td>19.591837</td>\n",
       "    </tr>\n",
       "  </tbody>\n",
       "</table>\n",
       "</div>"
      ],
      "text/plain": [
       "       Gewicht  Größe        BMI\n",
       "Henry       65    179  20.286508\n",
       "Sarah       58    165  21.303949\n",
       "Elke        58    172  19.605192\n",
       "Lulu        45    154  18.974532\n",
       "Vera        43    150  19.111111\n",
       "Toni        99    189  27.714790\n",
       "Maria       68    176  21.952479\n",
       "Chris       60    175  19.591837"
      ]
     },
     "execution_count": 28,
     "metadata": {},
     "output_type": "execute_result"
    }
   ],
   "source": [
    "s['BMI'] = bmi(s)\n",
    "\n",
    "s"
   ]
  },
  {
   "cell_type": "code",
   "execution_count": null,
   "id": "9a83d045",
   "metadata": {},
   "outputs": [
    {
     "name": "stderr",
     "output_type": "stream",
     "text": [
      "C:\\Users\\Colin\\AppData\\Local\\Temp\\ipykernel_7720\\2126866880.py:1: UserWarning: Boolean Series key will be reindexed to match DataFrame index.\n",
      "  s[s.index.str.contains('e')][bmi(s) < 20]\n"
     ]
    },
    {
     "data": {
      "text/html": [
       "<div>\n",
       "<style scoped>\n",
       "    .dataframe tbody tr th:only-of-type {\n",
       "        vertical-align: middle;\n",
       "    }\n",
       "\n",
       "    .dataframe tbody tr th {\n",
       "        vertical-align: top;\n",
       "    }\n",
       "\n",
       "    .dataframe thead th {\n",
       "        text-align: right;\n",
       "    }\n",
       "</style>\n",
       "<table border=\"1\" class=\"dataframe\">\n",
       "  <thead>\n",
       "    <tr style=\"text-align: right;\">\n",
       "      <th></th>\n",
       "      <th>Gewicht</th>\n",
       "      <th>Größe</th>\n",
       "      <th>BMI</th>\n",
       "    </tr>\n",
       "  </thead>\n",
       "  <tbody>\n",
       "    <tr>\n",
       "      <th>Elke</th>\n",
       "      <td>58</td>\n",
       "      <td>172</td>\n",
       "      <td>19.605192</td>\n",
       "    </tr>\n",
       "    <tr>\n",
       "      <th>Vera</th>\n",
       "      <td>43</td>\n",
       "      <td>150</td>\n",
       "      <td>19.111111</td>\n",
       "    </tr>\n",
       "  </tbody>\n",
       "</table>\n",
       "</div>"
      ],
      "text/plain": [
       "      Gewicht  Größe        BMI\n",
       "Elke       58    172  19.605192\n",
       "Vera       43    150  19.111111"
      ]
     },
     "execution_count": 32,
     "metadata": {},
     "output_type": "execute_result"
    }
   ],
   "source": [
    "s[s.index.str.contains('e')][bmi(s) < 20]"
   ]
  }
 ],
 "metadata": {
  "kernelspec": {
   "display_name": "Python 3",
   "language": "python",
   "name": "python3"
  },
  "language_info": {
   "codemirror_mode": {
    "name": "ipython",
    "version": 3
   },
   "file_extension": ".py",
   "mimetype": "text/x-python",
   "name": "python",
   "nbconvert_exporter": "python",
   "pygments_lexer": "ipython3",
   "version": "3.11.9"
  },
  "polyglot_notebook": {
   "kernelInfo": {
    "defaultKernelName": "csharp",
    "items": [
     {
      "aliases": [],
      "languageName": "csharp",
      "name": "csharp"
     }
    ]
   }
  }
 },
 "nbformat": 4,
 "nbformat_minor": 5
}
