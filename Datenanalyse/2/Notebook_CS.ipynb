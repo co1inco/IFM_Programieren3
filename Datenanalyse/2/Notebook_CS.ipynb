{
 "cells": [
  {
   "cell_type": "code",
   "execution_count": 9,
   "id": "f86dcc58",
   "metadata": {},
   "outputs": [],
   "source": [
    "static (TA, TB, TC) Add<TA, TB, TC>(this (TA, TB) t, TC value) => (t.Item1, t.Item2, value);\n",
    "static (TA, TB, TC, TD) Add<TA, TB, TC, TD>(this (TA, TB, TC) t, TD value) => (t.Item1, t.Item2, t.Item3, value);"
   ]
  },
  {
   "cell_type": "code",
   "execution_count": 2,
   "id": "42c35eee",
   "metadata": {
    "language_info": {
     "name": "polyglot-notebook"
    },
    "polyglot_notebook": {
     "kernelName": "csharp"
    }
   },
   "outputs": [
    {
     "data": {
      "text/html": [
       "<table><thead><tr><th><i>index</i></th><th>value</th></tr></thead><tbody><tr><td>0</td><td><details class=\"dni-treeview\"><summary><span class=\"dni-code-hint\"><code>(Henry, 65, 179)</code></span></summary><div><table><thead><tr></tr></thead><tbody><tr><td>Item1</td><td><div class=\"dni-plaintext\"><pre>Henry</pre></div></td></tr><tr><td>Item2</td><td><div class=\"dni-plaintext\"><pre>65</pre></div></td></tr><tr><td>Item3</td><td><div class=\"dni-plaintext\"><pre>179</pre></div></td></tr></tbody></table></div></details></td></tr><tr><td>1</td><td><details class=\"dni-treeview\"><summary><span class=\"dni-code-hint\"><code>(Sarah, 58, 165)</code></span></summary><div><table><thead><tr></tr></thead><tbody><tr><td>Item1</td><td><div class=\"dni-plaintext\"><pre>Sarah</pre></div></td></tr><tr><td>Item2</td><td><div class=\"dni-plaintext\"><pre>58</pre></div></td></tr><tr><td>Item3</td><td><div class=\"dni-plaintext\"><pre>165</pre></div></td></tr></tbody></table></div></details></td></tr><tr><td>2</td><td><details class=\"dni-treeview\"><summary><span class=\"dni-code-hint\"><code>(Elke, 58, 172)</code></span></summary><div><table><thead><tr></tr></thead><tbody><tr><td>Item1</td><td><div class=\"dni-plaintext\"><pre>Elke</pre></div></td></tr><tr><td>Item2</td><td><div class=\"dni-plaintext\"><pre>58</pre></div></td></tr><tr><td>Item3</td><td><div class=\"dni-plaintext\"><pre>172</pre></div></td></tr></tbody></table></div></details></td></tr><tr><td>3</td><td><details class=\"dni-treeview\"><summary><span class=\"dni-code-hint\"><code>(Lulu, 45, 154)</code></span></summary><div><table><thead><tr></tr></thead><tbody><tr><td>Item1</td><td><div class=\"dni-plaintext\"><pre>Lulu</pre></div></td></tr><tr><td>Item2</td><td><div class=\"dni-plaintext\"><pre>45</pre></div></td></tr><tr><td>Item3</td><td><div class=\"dni-plaintext\"><pre>154</pre></div></td></tr></tbody></table></div></details></td></tr><tr><td>4</td><td><details class=\"dni-treeview\"><summary><span class=\"dni-code-hint\"><code>(Vera, 43, 150)</code></span></summary><div><table><thead><tr></tr></thead><tbody><tr><td>Item1</td><td><div class=\"dni-plaintext\"><pre>Vera</pre></div></td></tr><tr><td>Item2</td><td><div class=\"dni-plaintext\"><pre>43</pre></div></td></tr><tr><td>Item3</td><td><div class=\"dni-plaintext\"><pre>150</pre></div></td></tr></tbody></table></div></details></td></tr><tr><td>5</td><td><details class=\"dni-treeview\"><summary><span class=\"dni-code-hint\"><code>(Toni, 99, 189)</code></span></summary><div><table><thead><tr></tr></thead><tbody><tr><td>Item1</td><td><div class=\"dni-plaintext\"><pre>Toni</pre></div></td></tr><tr><td>Item2</td><td><div class=\"dni-plaintext\"><pre>99</pre></div></td></tr><tr><td>Item3</td><td><div class=\"dni-plaintext\"><pre>189</pre></div></td></tr></tbody></table></div></details></td></tr><tr><td>6</td><td><details class=\"dni-treeview\"><summary><span class=\"dni-code-hint\"><code>(Maria, 68, 176)</code></span></summary><div><table><thead><tr></tr></thead><tbody><tr><td>Item1</td><td><div class=\"dni-plaintext\"><pre>Maria</pre></div></td></tr><tr><td>Item2</td><td><div class=\"dni-plaintext\"><pre>68</pre></div></td></tr><tr><td>Item3</td><td><div class=\"dni-plaintext\"><pre>176</pre></div></td></tr></tbody></table></div></details></td></tr><tr><td>7</td><td><details class=\"dni-treeview\"><summary><span class=\"dni-code-hint\"><code>(Chris, 60, 175)</code></span></summary><div><table><thead><tr></tr></thead><tbody><tr><td>Item1</td><td><div class=\"dni-plaintext\"><pre>Chris</pre></div></td></tr><tr><td>Item2</td><td><div class=\"dni-plaintext\"><pre>60</pre></div></td></tr><tr><td>Item3</td><td><div class=\"dni-plaintext\"><pre>175</pre></div></td></tr></tbody></table></div></details></td></tr></tbody></table><style>\r\n",
       ".dni-code-hint {\r\n",
       "    font-style: italic;\r\n",
       "    overflow: hidden;\r\n",
       "    white-space: nowrap;\r\n",
       "}\r\n",
       ".dni-treeview {\r\n",
       "    white-space: nowrap;\r\n",
       "}\r\n",
       ".dni-treeview td {\r\n",
       "    vertical-align: top;\r\n",
       "    text-align: start;\r\n",
       "}\r\n",
       "details.dni-treeview {\r\n",
       "    padding-left: 1em;\r\n",
       "}\r\n",
       "table td {\r\n",
       "    text-align: start;\r\n",
       "}\r\n",
       "table tr { \r\n",
       "    vertical-align: top; \r\n",
       "    margin: 0em 0px;\r\n",
       "}\r\n",
       "table tr td pre \r\n",
       "{ \r\n",
       "    vertical-align: top !important; \r\n",
       "    margin: 0em 0px !important;\r\n",
       "} \r\n",
       "table th {\r\n",
       "    text-align: start;\r\n",
       "}\r\n",
       "</style>"
      ]
     },
     "metadata": {},
     "output_type": "display_data"
    }
   ],
   "source": [
    "(string Name, float Gewicht, float Größe)[] Data = [\n",
    "    (\"Henry\", 65, 179 ), \n",
    "    (\"Sarah\", 58, 165 ),\n",
    "    (\"Elke\", 58, 172 ),\n",
    "    (\"Lulu\", 45, 154 ),\n",
    "    (\"Vera\", 43, 150 ),\n",
    "    (\"Toni\", 99, 189 ),\n",
    "    (\"Maria\", 68, 176 ),\n",
    "    (\"Chris\", 60, 175 )\n",
    "];\n",
    "\n",
    "Data"
   ]
  },
  {
   "cell_type": "code",
   "execution_count": 4,
   "id": "4d4006a5",
   "metadata": {},
   "outputs": [
    {
     "data": {
      "text/html": [
       "<table><thead><tr><th><i>index</i></th><th>value</th></tr></thead><tbody><tr><td>0</td><td><details class=\"dni-treeview\"><summary><span class=\"dni-code-hint\"><code>(Henry, 20.286509)</code></span></summary><div><table><thead><tr></tr></thead><tbody><tr><td>Item1</td><td><div class=\"dni-plaintext\"><pre>Henry</pre></div></td></tr><tr><td>Item2</td><td><div class=\"dni-plaintext\"><pre>20.286509</pre></div></td></tr></tbody></table></div></details></td></tr><tr><td>1</td><td><details class=\"dni-treeview\"><summary><span class=\"dni-code-hint\"><code>(Sarah, 21.30395)</code></span></summary><div><table><thead><tr></tr></thead><tbody><tr><td>Item1</td><td><div class=\"dni-plaintext\"><pre>Sarah</pre></div></td></tr><tr><td>Item2</td><td><div class=\"dni-plaintext\"><pre>21.30395</pre></div></td></tr></tbody></table></div></details></td></tr><tr><td>2</td><td><details class=\"dni-treeview\"><summary><span class=\"dni-code-hint\"><code>(Elke, 19.605192)</code></span></summary><div><table><thead><tr></tr></thead><tbody><tr><td>Item1</td><td><div class=\"dni-plaintext\"><pre>Elke</pre></div></td></tr><tr><td>Item2</td><td><div class=\"dni-plaintext\"><pre>19.605192</pre></div></td></tr></tbody></table></div></details></td></tr><tr><td>3</td><td><details class=\"dni-treeview\"><summary><span class=\"dni-code-hint\"><code>(Lulu, 18.974533)</code></span></summary><div><table><thead><tr></tr></thead><tbody><tr><td>Item1</td><td><div class=\"dni-plaintext\"><pre>Lulu</pre></div></td></tr><tr><td>Item2</td><td><div class=\"dni-plaintext\"><pre>18.974533</pre></div></td></tr></tbody></table></div></details></td></tr><tr><td>4</td><td><details class=\"dni-treeview\"><summary><span class=\"dni-code-hint\"><code>(Vera, 19.11111)</code></span></summary><div><table><thead><tr></tr></thead><tbody><tr><td>Item1</td><td><div class=\"dni-plaintext\"><pre>Vera</pre></div></td></tr><tr><td>Item2</td><td><div class=\"dni-plaintext\"><pre>19.11111</pre></div></td></tr></tbody></table></div></details></td></tr><tr><td>5</td><td><details class=\"dni-treeview\"><summary><span class=\"dni-code-hint\"><code>(Toni, 27.71479)</code></span></summary><div><table><thead><tr></tr></thead><tbody><tr><td>Item1</td><td><div class=\"dni-plaintext\"><pre>Toni</pre></div></td></tr><tr><td>Item2</td><td><div class=\"dni-plaintext\"><pre>27.71479</pre></div></td></tr></tbody></table></div></details></td></tr><tr><td>6</td><td><details class=\"dni-treeview\"><summary><span class=\"dni-code-hint\"><code>(Maria, 21.95248)</code></span></summary><div><table><thead><tr></tr></thead><tbody><tr><td>Item1</td><td><div class=\"dni-plaintext\"><pre>Maria</pre></div></td></tr><tr><td>Item2</td><td><div class=\"dni-plaintext\"><pre>21.95248</pre></div></td></tr></tbody></table></div></details></td></tr><tr><td>7</td><td><details class=\"dni-treeview\"><summary><span class=\"dni-code-hint\"><code>(Chris, 19.591837)</code></span></summary><div><table><thead><tr></tr></thead><tbody><tr><td>Item1</td><td><div class=\"dni-plaintext\"><pre>Chris</pre></div></td></tr><tr><td>Item2</td><td><div class=\"dni-plaintext\"><pre>19.591837</pre></div></td></tr></tbody></table></div></details></td></tr></tbody></table><style>\r\n",
       ".dni-code-hint {\r\n",
       "    font-style: italic;\r\n",
       "    overflow: hidden;\r\n",
       "    white-space: nowrap;\r\n",
       "}\r\n",
       ".dni-treeview {\r\n",
       "    white-space: nowrap;\r\n",
       "}\r\n",
       ".dni-treeview td {\r\n",
       "    vertical-align: top;\r\n",
       "    text-align: start;\r\n",
       "}\r\n",
       "details.dni-treeview {\r\n",
       "    padding-left: 1em;\r\n",
       "}\r\n",
       "table td {\r\n",
       "    text-align: start;\r\n",
       "}\r\n",
       "table tr { \r\n",
       "    vertical-align: top; \r\n",
       "    margin: 0em 0px;\r\n",
       "}\r\n",
       "table tr td pre \r\n",
       "{ \r\n",
       "    vertical-align: top !important; \r\n",
       "    margin: 0em 0px !important;\r\n",
       "} \r\n",
       "table th {\r\n",
       "    text-align: start;\r\n",
       "}\r\n",
       "</style>"
      ]
     },
     "metadata": {},
     "output_type": "display_data"
    }
   ],
   "source": [
    "float Bmi(float weight, float size) => (float)(weight / ( Math.Pow(size / 100.0f, 2.0f)));\n",
    "\n",
    "Data.Select(x => (x.Name, Bmi(x.Gewicht, x.Größe)))"
   ]
  },
  {
   "cell_type": "code",
   "execution_count": 5,
   "id": "fb265a50",
   "metadata": {},
   "outputs": [
    {
     "data": {
      "text/html": [
       "<table><thead><tr><th><i>index</i></th><th>value</th></tr></thead><tbody><tr><td>0</td><td><details class=\"dni-treeview\"><summary><span class=\"dni-code-hint\"><code>(Henry, 65, 179)</code></span></summary><div><table><thead><tr></tr></thead><tbody><tr><td>Item1</td><td><div class=\"dni-plaintext\"><pre>Henry</pre></div></td></tr><tr><td>Item2</td><td><div class=\"dni-plaintext\"><pre>65</pre></div></td></tr><tr><td>Item3</td><td><div class=\"dni-plaintext\"><pre>179</pre></div></td></tr></tbody></table></div></details></td></tr><tr><td>1</td><td><details class=\"dni-treeview\"><summary><span class=\"dni-code-hint\"><code>(Sarah, 58, 165)</code></span></summary><div><table><thead><tr></tr></thead><tbody><tr><td>Item1</td><td><div class=\"dni-plaintext\"><pre>Sarah</pre></div></td></tr><tr><td>Item2</td><td><div class=\"dni-plaintext\"><pre>58</pre></div></td></tr><tr><td>Item3</td><td><div class=\"dni-plaintext\"><pre>165</pre></div></td></tr></tbody></table></div></details></td></tr><tr><td>2</td><td><details class=\"dni-treeview\"><summary><span class=\"dni-code-hint\"><code>(Elke, 58, 172)</code></span></summary><div><table><thead><tr></tr></thead><tbody><tr><td>Item1</td><td><div class=\"dni-plaintext\"><pre>Elke</pre></div></td></tr><tr><td>Item2</td><td><div class=\"dni-plaintext\"><pre>58</pre></div></td></tr><tr><td>Item3</td><td><div class=\"dni-plaintext\"><pre>172</pre></div></td></tr></tbody></table></div></details></td></tr><tr><td>3</td><td><details class=\"dni-treeview\"><summary><span class=\"dni-code-hint\"><code>(Lulu, 45, 154)</code></span></summary><div><table><thead><tr></tr></thead><tbody><tr><td>Item1</td><td><div class=\"dni-plaintext\"><pre>Lulu</pre></div></td></tr><tr><td>Item2</td><td><div class=\"dni-plaintext\"><pre>45</pre></div></td></tr><tr><td>Item3</td><td><div class=\"dni-plaintext\"><pre>154</pre></div></td></tr></tbody></table></div></details></td></tr><tr><td>4</td><td><details class=\"dni-treeview\"><summary><span class=\"dni-code-hint\"><code>(Vera, 43, 150)</code></span></summary><div><table><thead><tr></tr></thead><tbody><tr><td>Item1</td><td><div class=\"dni-plaintext\"><pre>Vera</pre></div></td></tr><tr><td>Item2</td><td><div class=\"dni-plaintext\"><pre>43</pre></div></td></tr><tr><td>Item3</td><td><div class=\"dni-plaintext\"><pre>150</pre></div></td></tr></tbody></table></div></details></td></tr><tr><td>5</td><td><details class=\"dni-treeview\"><summary><span class=\"dni-code-hint\"><code>(Maria, 68, 176)</code></span></summary><div><table><thead><tr></tr></thead><tbody><tr><td>Item1</td><td><div class=\"dni-plaintext\"><pre>Maria</pre></div></td></tr><tr><td>Item2</td><td><div class=\"dni-plaintext\"><pre>68</pre></div></td></tr><tr><td>Item3</td><td><div class=\"dni-plaintext\"><pre>176</pre></div></td></tr></tbody></table></div></details></td></tr><tr><td>6</td><td><details class=\"dni-treeview\"><summary><span class=\"dni-code-hint\"><code>(Chris, 60, 175)</code></span></summary><div><table><thead><tr></tr></thead><tbody><tr><td>Item1</td><td><div class=\"dni-plaintext\"><pre>Chris</pre></div></td></tr><tr><td>Item2</td><td><div class=\"dni-plaintext\"><pre>60</pre></div></td></tr><tr><td>Item3</td><td><div class=\"dni-plaintext\"><pre>175</pre></div></td></tr></tbody></table></div></details></td></tr></tbody></table><style>\r\n",
       ".dni-code-hint {\r\n",
       "    font-style: italic;\r\n",
       "    overflow: hidden;\r\n",
       "    white-space: nowrap;\r\n",
       "}\r\n",
       ".dni-treeview {\r\n",
       "    white-space: nowrap;\r\n",
       "}\r\n",
       ".dni-treeview td {\r\n",
       "    vertical-align: top;\r\n",
       "    text-align: start;\r\n",
       "}\r\n",
       "details.dni-treeview {\r\n",
       "    padding-left: 1em;\r\n",
       "}\r\n",
       "table td {\r\n",
       "    text-align: start;\r\n",
       "}\r\n",
       "table tr { \r\n",
       "    vertical-align: top; \r\n",
       "    margin: 0em 0px;\r\n",
       "}\r\n",
       "table tr td pre \r\n",
       "{ \r\n",
       "    vertical-align: top !important; \r\n",
       "    margin: 0em 0px !important;\r\n",
       "} \r\n",
       "table th {\r\n",
       "    text-align: start;\r\n",
       "}\r\n",
       "</style>"
      ]
     },
     "metadata": {},
     "output_type": "display_data"
    }
   ],
   "source": [
    "Data.Where(x => Bmi(x.Gewicht, x.Größe) is > 18.5f and < 25.0f)"
   ]
  },
  {
   "cell_type": "code",
   "execution_count": 7,
   "id": "e6e16c11",
   "metadata": {},
   "outputs": [
    {
     "data": {
      "text/html": [
       "<table><thead><tr><th><i>index</i></th><th>value</th></tr></thead><tbody><tr><td>0</td><td><details class=\"dni-treeview\"><summary><span class=\"dni-code-hint\"><code>(Henry, 65, 179)</code></span></summary><div><table><thead><tr></tr></thead><tbody><tr><td>Item1</td><td><div class=\"dni-plaintext\"><pre>Henry</pre></div></td></tr><tr><td>Item2</td><td><div class=\"dni-plaintext\"><pre>65</pre></div></td></tr><tr><td>Item3</td><td><div class=\"dni-plaintext\"><pre>179</pre></div></td></tr></tbody></table></div></details></td></tr><tr><td>1</td><td><details class=\"dni-treeview\"><summary><span class=\"dni-code-hint\"><code>(Elke, 58, 172)</code></span></summary><div><table><thead><tr></tr></thead><tbody><tr><td>Item1</td><td><div class=\"dni-plaintext\"><pre>Elke</pre></div></td></tr><tr><td>Item2</td><td><div class=\"dni-plaintext\"><pre>58</pre></div></td></tr><tr><td>Item3</td><td><div class=\"dni-plaintext\"><pre>172</pre></div></td></tr></tbody></table></div></details></td></tr><tr><td>2</td><td><details class=\"dni-treeview\"><summary><span class=\"dni-code-hint\"><code>(Vera, 43, 150)</code></span></summary><div><table><thead><tr></tr></thead><tbody><tr><td>Item1</td><td><div class=\"dni-plaintext\"><pre>Vera</pre></div></td></tr><tr><td>Item2</td><td><div class=\"dni-plaintext\"><pre>43</pre></div></td></tr><tr><td>Item3</td><td><div class=\"dni-plaintext\"><pre>150</pre></div></td></tr></tbody></table></div></details></td></tr></tbody></table><style>\r\n",
       ".dni-code-hint {\r\n",
       "    font-style: italic;\r\n",
       "    overflow: hidden;\r\n",
       "    white-space: nowrap;\r\n",
       "}\r\n",
       ".dni-treeview {\r\n",
       "    white-space: nowrap;\r\n",
       "}\r\n",
       ".dni-treeview td {\r\n",
       "    vertical-align: top;\r\n",
       "    text-align: start;\r\n",
       "}\r\n",
       "details.dni-treeview {\r\n",
       "    padding-left: 1em;\r\n",
       "}\r\n",
       "table td {\r\n",
       "    text-align: start;\r\n",
       "}\r\n",
       "table tr { \r\n",
       "    vertical-align: top; \r\n",
       "    margin: 0em 0px;\r\n",
       "}\r\n",
       "table tr td pre \r\n",
       "{ \r\n",
       "    vertical-align: top !important; \r\n",
       "    margin: 0em 0px !important;\r\n",
       "} \r\n",
       "table th {\r\n",
       "    text-align: start;\r\n",
       "}\r\n",
       "</style>"
      ]
     },
     "metadata": {},
     "output_type": "display_data"
    }
   ],
   "source": [
    "Data.Where(x => x.Name.Contains('e'))"
   ]
  },
  {
   "cell_type": "code",
   "execution_count": 14,
   "id": "ea6af556",
   "metadata": {},
   "outputs": [
    {
     "data": {
      "text/html": [
       "<table><thead><tr><th><i>index</i></th><th>value</th></tr></thead><tbody><tr><td>0</td><td><details class=\"dni-treeview\"><summary><span class=\"dni-code-hint\"><code>(Henry, 65, 179, 20.286509)</code></span></summary><div><table><thead><tr></tr></thead><tbody><tr><td>Item1</td><td><div class=\"dni-plaintext\"><pre>Henry</pre></div></td></tr><tr><td>Item2</td><td><div class=\"dni-plaintext\"><pre>65</pre></div></td></tr><tr><td>Item3</td><td><div class=\"dni-plaintext\"><pre>179</pre></div></td></tr><tr><td>Item4</td><td><div class=\"dni-plaintext\"><pre>20.286509</pre></div></td></tr></tbody></table></div></details></td></tr><tr><td>1</td><td><details class=\"dni-treeview\"><summary><span class=\"dni-code-hint\"><code>(Sarah, 58, 165, 21.30395)</code></span></summary><div><table><thead><tr></tr></thead><tbody><tr><td>Item1</td><td><div class=\"dni-plaintext\"><pre>Sarah</pre></div></td></tr><tr><td>Item2</td><td><div class=\"dni-plaintext\"><pre>58</pre></div></td></tr><tr><td>Item3</td><td><div class=\"dni-plaintext\"><pre>165</pre></div></td></tr><tr><td>Item4</td><td><div class=\"dni-plaintext\"><pre>21.30395</pre></div></td></tr></tbody></table></div></details></td></tr><tr><td>2</td><td><details class=\"dni-treeview\"><summary><span class=\"dni-code-hint\"><code>(Elke, 58, 172, 19.605192)</code></span></summary><div><table><thead><tr></tr></thead><tbody><tr><td>Item1</td><td><div class=\"dni-plaintext\"><pre>Elke</pre></div></td></tr><tr><td>Item2</td><td><div class=\"dni-plaintext\"><pre>58</pre></div></td></tr><tr><td>Item3</td><td><div class=\"dni-plaintext\"><pre>172</pre></div></td></tr><tr><td>Item4</td><td><div class=\"dni-plaintext\"><pre>19.605192</pre></div></td></tr></tbody></table></div></details></td></tr><tr><td>3</td><td><details class=\"dni-treeview\"><summary><span class=\"dni-code-hint\"><code>(Lulu, 45, 154, 18.974533)</code></span></summary><div><table><thead><tr></tr></thead><tbody><tr><td>Item1</td><td><div class=\"dni-plaintext\"><pre>Lulu</pre></div></td></tr><tr><td>Item2</td><td><div class=\"dni-plaintext\"><pre>45</pre></div></td></tr><tr><td>Item3</td><td><div class=\"dni-plaintext\"><pre>154</pre></div></td></tr><tr><td>Item4</td><td><div class=\"dni-plaintext\"><pre>18.974533</pre></div></td></tr></tbody></table></div></details></td></tr><tr><td>4</td><td><details class=\"dni-treeview\"><summary><span class=\"dni-code-hint\"><code>(Vera, 43, 150, 19.11111)</code></span></summary><div><table><thead><tr></tr></thead><tbody><tr><td>Item1</td><td><div class=\"dni-plaintext\"><pre>Vera</pre></div></td></tr><tr><td>Item2</td><td><div class=\"dni-plaintext\"><pre>43</pre></div></td></tr><tr><td>Item3</td><td><div class=\"dni-plaintext\"><pre>150</pre></div></td></tr><tr><td>Item4</td><td><div class=\"dni-plaintext\"><pre>19.11111</pre></div></td></tr></tbody></table></div></details></td></tr><tr><td>5</td><td><details class=\"dni-treeview\"><summary><span class=\"dni-code-hint\"><code>(Toni, 99, 189, 27.71479)</code></span></summary><div><table><thead><tr></tr></thead><tbody><tr><td>Item1</td><td><div class=\"dni-plaintext\"><pre>Toni</pre></div></td></tr><tr><td>Item2</td><td><div class=\"dni-plaintext\"><pre>99</pre></div></td></tr><tr><td>Item3</td><td><div class=\"dni-plaintext\"><pre>189</pre></div></td></tr><tr><td>Item4</td><td><div class=\"dni-plaintext\"><pre>27.71479</pre></div></td></tr></tbody></table></div></details></td></tr><tr><td>6</td><td><details class=\"dni-treeview\"><summary><span class=\"dni-code-hint\"><code>(Maria, 68, 176, 21.95248)</code></span></summary><div><table><thead><tr></tr></thead><tbody><tr><td>Item1</td><td><div class=\"dni-plaintext\"><pre>Maria</pre></div></td></tr><tr><td>Item2</td><td><div class=\"dni-plaintext\"><pre>68</pre></div></td></tr><tr><td>Item3</td><td><div class=\"dni-plaintext\"><pre>176</pre></div></td></tr><tr><td>Item4</td><td><div class=\"dni-plaintext\"><pre>21.95248</pre></div></td></tr></tbody></table></div></details></td></tr><tr><td>7</td><td><details class=\"dni-treeview\"><summary><span class=\"dni-code-hint\"><code>(Chris, 60, 175, 19.591837)</code></span></summary><div><table><thead><tr></tr></thead><tbody><tr><td>Item1</td><td><div class=\"dni-plaintext\"><pre>Chris</pre></div></td></tr><tr><td>Item2</td><td><div class=\"dni-plaintext\"><pre>60</pre></div></td></tr><tr><td>Item3</td><td><div class=\"dni-plaintext\"><pre>175</pre></div></td></tr><tr><td>Item4</td><td><div class=\"dni-plaintext\"><pre>19.591837</pre></div></td></tr></tbody></table></div></details></td></tr></tbody></table><style>\r\n",
       ".dni-code-hint {\r\n",
       "    font-style: italic;\r\n",
       "    overflow: hidden;\r\n",
       "    white-space: nowrap;\r\n",
       "}\r\n",
       ".dni-treeview {\r\n",
       "    white-space: nowrap;\r\n",
       "}\r\n",
       ".dni-treeview td {\r\n",
       "    vertical-align: top;\r\n",
       "    text-align: start;\r\n",
       "}\r\n",
       "details.dni-treeview {\r\n",
       "    padding-left: 1em;\r\n",
       "}\r\n",
       "table td {\r\n",
       "    text-align: start;\r\n",
       "}\r\n",
       "table tr { \r\n",
       "    vertical-align: top; \r\n",
       "    margin: 0em 0px;\r\n",
       "}\r\n",
       "table tr td pre \r\n",
       "{ \r\n",
       "    vertical-align: top !important; \r\n",
       "    margin: 0em 0px !important;\r\n",
       "} \r\n",
       "table th {\r\n",
       "    text-align: start;\r\n",
       "}\r\n",
       "</style>"
      ]
     },
     "metadata": {},
     "output_type": "display_data"
    }
   ],
   "source": [
    "(string Name, float Gewicht, float Größe, float Bmi)[] WithBmi = \n",
    "    Data.Select(x => x.Add(Bmi(x.Gewicht, x.Größe))).ToArray();\n",
    "\n",
    "WithBmi"
   ]
  },
  {
   "cell_type": "code",
   "execution_count": 17,
   "id": "3e7a69fd",
   "metadata": {},
   "outputs": [
    {
     "data": {
      "text/html": [
       "<table><thead><tr><th><i>index</i></th><th>value</th></tr></thead><tbody><tr><td>0</td><td><details class=\"dni-treeview\"><summary><span class=\"dni-code-hint\"><code>(Toni, 99, 189, 27.71479)</code></span></summary><div><table><thead><tr></tr></thead><tbody><tr><td>Item1</td><td><div class=\"dni-plaintext\"><pre>Toni</pre></div></td></tr><tr><td>Item2</td><td><div class=\"dni-plaintext\"><pre>99</pre></div></td></tr><tr><td>Item3</td><td><div class=\"dni-plaintext\"><pre>189</pre></div></td></tr><tr><td>Item4</td><td><div class=\"dni-plaintext\"><pre>27.71479</pre></div></td></tr></tbody></table></div></details></td></tr><tr><td>1</td><td><details class=\"dni-treeview\"><summary><span class=\"dni-code-hint\"><code>(Maria, 68, 176, 21.95248)</code></span></summary><div><table><thead><tr></tr></thead><tbody><tr><td>Item1</td><td><div class=\"dni-plaintext\"><pre>Maria</pre></div></td></tr><tr><td>Item2</td><td><div class=\"dni-plaintext\"><pre>68</pre></div></td></tr><tr><td>Item3</td><td><div class=\"dni-plaintext\"><pre>176</pre></div></td></tr><tr><td>Item4</td><td><div class=\"dni-plaintext\"><pre>21.95248</pre></div></td></tr></tbody></table></div></details></td></tr><tr><td>2</td><td><details class=\"dni-treeview\"><summary><span class=\"dni-code-hint\"><code>(Sarah, 58, 165, 21.30395)</code></span></summary><div><table><thead><tr></tr></thead><tbody><tr><td>Item1</td><td><div class=\"dni-plaintext\"><pre>Sarah</pre></div></td></tr><tr><td>Item2</td><td><div class=\"dni-plaintext\"><pre>58</pre></div></td></tr><tr><td>Item3</td><td><div class=\"dni-plaintext\"><pre>165</pre></div></td></tr><tr><td>Item4</td><td><div class=\"dni-plaintext\"><pre>21.30395</pre></div></td></tr></tbody></table></div></details></td></tr><tr><td>3</td><td><details class=\"dni-treeview\"><summary><span class=\"dni-code-hint\"><code>(Henry, 65, 179, 20.286509)</code></span></summary><div><table><thead><tr></tr></thead><tbody><tr><td>Item1</td><td><div class=\"dni-plaintext\"><pre>Henry</pre></div></td></tr><tr><td>Item2</td><td><div class=\"dni-plaintext\"><pre>65</pre></div></td></tr><tr><td>Item3</td><td><div class=\"dni-plaintext\"><pre>179</pre></div></td></tr><tr><td>Item4</td><td><div class=\"dni-plaintext\"><pre>20.286509</pre></div></td></tr></tbody></table></div></details></td></tr><tr><td>4</td><td><details class=\"dni-treeview\"><summary><span class=\"dni-code-hint\"><code>(Elke, 58, 172, 19.605192)</code></span></summary><div><table><thead><tr></tr></thead><tbody><tr><td>Item1</td><td><div class=\"dni-plaintext\"><pre>Elke</pre></div></td></tr><tr><td>Item2</td><td><div class=\"dni-plaintext\"><pre>58</pre></div></td></tr><tr><td>Item3</td><td><div class=\"dni-plaintext\"><pre>172</pre></div></td></tr><tr><td>Item4</td><td><div class=\"dni-plaintext\"><pre>19.605192</pre></div></td></tr></tbody></table></div></details></td></tr><tr><td>5</td><td><details class=\"dni-treeview\"><summary><span class=\"dni-code-hint\"><code>(Chris, 60, 175, 19.591837)</code></span></summary><div><table><thead><tr></tr></thead><tbody><tr><td>Item1</td><td><div class=\"dni-plaintext\"><pre>Chris</pre></div></td></tr><tr><td>Item2</td><td><div class=\"dni-plaintext\"><pre>60</pre></div></td></tr><tr><td>Item3</td><td><div class=\"dni-plaintext\"><pre>175</pre></div></td></tr><tr><td>Item4</td><td><div class=\"dni-plaintext\"><pre>19.591837</pre></div></td></tr></tbody></table></div></details></td></tr><tr><td>6</td><td><details class=\"dni-treeview\"><summary><span class=\"dni-code-hint\"><code>(Vera, 43, 150, 19.11111)</code></span></summary><div><table><thead><tr></tr></thead><tbody><tr><td>Item1</td><td><div class=\"dni-plaintext\"><pre>Vera</pre></div></td></tr><tr><td>Item2</td><td><div class=\"dni-plaintext\"><pre>43</pre></div></td></tr><tr><td>Item3</td><td><div class=\"dni-plaintext\"><pre>150</pre></div></td></tr><tr><td>Item4</td><td><div class=\"dni-plaintext\"><pre>19.11111</pre></div></td></tr></tbody></table></div></details></td></tr><tr><td>7</td><td><details class=\"dni-treeview\"><summary><span class=\"dni-code-hint\"><code>(Lulu, 45, 154, 18.974533)</code></span></summary><div><table><thead><tr></tr></thead><tbody><tr><td>Item1</td><td><div class=\"dni-plaintext\"><pre>Lulu</pre></div></td></tr><tr><td>Item2</td><td><div class=\"dni-plaintext\"><pre>45</pre></div></td></tr><tr><td>Item3</td><td><div class=\"dni-plaintext\"><pre>154</pre></div></td></tr><tr><td>Item4</td><td><div class=\"dni-plaintext\"><pre>18.974533</pre></div></td></tr></tbody></table></div></details></td></tr></tbody></table><style>\r\n",
       ".dni-code-hint {\r\n",
       "    font-style: italic;\r\n",
       "    overflow: hidden;\r\n",
       "    white-space: nowrap;\r\n",
       "}\r\n",
       ".dni-treeview {\r\n",
       "    white-space: nowrap;\r\n",
       "}\r\n",
       ".dni-treeview td {\r\n",
       "    vertical-align: top;\r\n",
       "    text-align: start;\r\n",
       "}\r\n",
       "details.dni-treeview {\r\n",
       "    padding-left: 1em;\r\n",
       "}\r\n",
       "table td {\r\n",
       "    text-align: start;\r\n",
       "}\r\n",
       "table tr { \r\n",
       "    vertical-align: top; \r\n",
       "    margin: 0em 0px;\r\n",
       "}\r\n",
       "table tr td pre \r\n",
       "{ \r\n",
       "    vertical-align: top !important; \r\n",
       "    margin: 0em 0px !important;\r\n",
       "} \r\n",
       "table th {\r\n",
       "    text-align: start;\r\n",
       "}\r\n",
       "</style>"
      ]
     },
     "metadata": {},
     "output_type": "display_data"
    }
   ],
   "source": [
    "WithBmi.OrderByDescending(x => x.Bmi)"
   ]
  },
  {
   "cell_type": "code",
   "execution_count": 18,
   "id": "3528e97c",
   "metadata": {},
   "outputs": [
    {
     "data": {
      "text/html": [
       "<table><thead><tr><th><i>index</i></th><th>value</th></tr></thead><tbody><tr><td>0</td><td><details class=\"dni-treeview\"><summary><span class=\"dni-code-hint\"><code>(Elke, 58, 172, 19.605192)</code></span></summary><div><table><thead><tr></tr></thead><tbody><tr><td>Item1</td><td><div class=\"dni-plaintext\"><pre>Elke</pre></div></td></tr><tr><td>Item2</td><td><div class=\"dni-plaintext\"><pre>58</pre></div></td></tr><tr><td>Item3</td><td><div class=\"dni-plaintext\"><pre>172</pre></div></td></tr><tr><td>Item4</td><td><div class=\"dni-plaintext\"><pre>19.605192</pre></div></td></tr></tbody></table></div></details></td></tr><tr><td>1</td><td><details class=\"dni-treeview\"><summary><span class=\"dni-code-hint\"><code>(Vera, 43, 150, 19.11111)</code></span></summary><div><table><thead><tr></tr></thead><tbody><tr><td>Item1</td><td><div class=\"dni-plaintext\"><pre>Vera</pre></div></td></tr><tr><td>Item2</td><td><div class=\"dni-plaintext\"><pre>43</pre></div></td></tr><tr><td>Item3</td><td><div class=\"dni-plaintext\"><pre>150</pre></div></td></tr><tr><td>Item4</td><td><div class=\"dni-plaintext\"><pre>19.11111</pre></div></td></tr></tbody></table></div></details></td></tr></tbody></table><style>\r\n",
       ".dni-code-hint {\r\n",
       "    font-style: italic;\r\n",
       "    overflow: hidden;\r\n",
       "    white-space: nowrap;\r\n",
       "}\r\n",
       ".dni-treeview {\r\n",
       "    white-space: nowrap;\r\n",
       "}\r\n",
       ".dni-treeview td {\r\n",
       "    vertical-align: top;\r\n",
       "    text-align: start;\r\n",
       "}\r\n",
       "details.dni-treeview {\r\n",
       "    padding-left: 1em;\r\n",
       "}\r\n",
       "table td {\r\n",
       "    text-align: start;\r\n",
       "}\r\n",
       "table tr { \r\n",
       "    vertical-align: top; \r\n",
       "    margin: 0em 0px;\r\n",
       "}\r\n",
       "table tr td pre \r\n",
       "{ \r\n",
       "    vertical-align: top !important; \r\n",
       "    margin: 0em 0px !important;\r\n",
       "} \r\n",
       "table th {\r\n",
       "    text-align: start;\r\n",
       "}\r\n",
       "</style>"
      ]
     },
     "metadata": {},
     "output_type": "display_data"
    }
   ],
   "source": [
    "WithBmi.Where(x => x.Name.Contains('e')).Where(x => x.Bmi < 20)"
   ]
  }
 ],
 "metadata": {
  "kernelspec": {
   "display_name": ".NET (C#)",
   "language": "C#",
   "name": ".net-csharp"
  },
  "language_info": {
   "name": "polyglot-notebook"
  },
  "polyglot_notebook": {
   "kernelInfo": {
    "defaultKernelName": "csharp",
    "items": [
     {
      "aliases": [],
      "languageName": "csharp",
      "name": "csharp"
     }
    ]
   }
  }
 },
 "nbformat": 4,
 "nbformat_minor": 5
}
